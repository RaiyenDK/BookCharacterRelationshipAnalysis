{
 "cells": [
  {
   "cell_type": "markdown",
   "id": "53e39ea7-c693-43db-8641-a1767905c334",
   "metadata": {},
   "source": [
    "# SCRAPING BOOKS & CHARACTERS FROM WIKI"
   ]
  },
  {
   "cell_type": "markdown",
   "id": "02717a1c-ed0b-4468-8605-79ee5bdf725a",
   "metadata": {},
   "source": [
    "## Importing the Libraries"
   ]
  },
  {
   "cell_type": "code",
   "execution_count": 10,
   "id": "dd43878e-8c86-4bea-8134-d52da303f50d",
   "metadata": {},
   "outputs": [],
   "source": [
    "import pandas as pd\n",
    "import time\n",
    "from selenium import webdriver\n",
    "from webdriver_manager.chrome import ChromeDriverManager"
   ]
  },
  {
   "cell_type": "code",
   "execution_count": 15,
   "id": "cf9d8dac-0d92-4ebc-a0ca-23d606cb1040",
   "metadata": {},
   "outputs": [],
   "source": [
    "driver = webdriver.Chrome() # Driver Object to Access our browser"
   ]
  },
  {
   "cell_type": "code",
   "execution_count": 16,
   "id": "d8d14aac-af31-4bbc-b1ed-b9fac76d4672",
   "metadata": {},
   "outputs": [],
   "source": [
    "page_url = \"https://witcher.fandom.com/wiki/Category:Characters_in_the_stories\"\n",
    "driver.get(page_url) # go to url"
   ]
  },
  {
   "cell_type": "code",
   "execution_count": 24,
   "id": "b61c362c-749d-4cd3-b122-2ed71595b688",
   "metadata": {},
   "outputs": [],
   "source": [
    "from selenium.webdriver.common.by import By\n",
    "\n",
    "# driver.find_element(By.XPATH, \"//div[text() = 'ACCEPT']\").click() # Bypass Cookie Request"
   ]
  },
  {
   "cell_type": "markdown",
   "id": "efeedc4b-aa5a-4311-8fb1-fe780e244df7",
   "metadata": {},
   "source": [
    "### Scraping Process"
   ]
  },
  {
   "cell_type": "markdown",
   "id": "e64a1ca4-60a2-498f-b115-19232d85111b",
   "metadata": {},
   "source": [
    "#### Gather Book Categories"
   ]
  },
  {
   "cell_type": "code",
   "execution_count": 36,
   "id": "bcccfea9-6038-41d1-98d1-5af80b820a77",
   "metadata": {
    "tags": []
   },
   "outputs": [],
   "source": [
    "book_cats = driver.find_elements(By.CLASS_NAME, \"category-page__member-link\")"
   ]
  },
  {
   "cell_type": "code",
   "execution_count": 37,
   "id": "b5ec221d-10e8-4c32-85ae-23adc6e32e16",
   "metadata": {},
   "outputs": [
    {
     "name": "stdout",
     "output_type": "stream",
     "text": [
      "1 Category:Baptism of Fire characters\n",
      "2 Category:Blood of Elves characters\n",
      "3 Godamba Thaess'en\n",
      "4 Category:Season of Storms characters\n",
      "5 Category:Something Ends, Something Begins characters\n",
      "6 Category:Sword of Destiny characters\n",
      "7 Category:Szpony i kły characters\n",
      "8 Category:Tales from the world of The Witcher characters\n",
      "9 Category:The Lady of the Lake characters\n",
      "10 Category:The Last Wish characters\n",
      "11 Category:The Tower of the Swallow characters\n",
      "12 Category:Time of Contempt characters\n"
     ]
    }
   ],
   "source": [
    "i = 1\n",
    "for category in book_cats:\n",
    "    print(str(i) + \" \" + category.text)\n",
    "    i += 1"
   ]
  },
  {
   "cell_type": "code",
   "execution_count": 38,
   "id": "2273f763-4e39-49a6-8f3c-c9b89acf7e68",
   "metadata": {},
   "outputs": [
    {
     "name": "stdout",
     "output_type": "stream",
     "text": [
      "https://witcher.fandom.com/wiki/Category:Baptism_of_Fire_characters\n",
      "https://witcher.fandom.com/wiki/Category:Blood_of_Elves_characters\n",
      "https://witcher.fandom.com/wiki/Godamba_Thaess%27en\n",
      "https://witcher.fandom.com/wiki/Category:Season_of_Storms_characters\n",
      "https://witcher.fandom.com/wiki/Category:Something_Ends,_Something_Begins_characters\n",
      "https://witcher.fandom.com/wiki/Category:Sword_of_Destiny_characters\n",
      "https://witcher.fandom.com/wiki/Category:Szpony_i_k%C5%82y_characters\n",
      "https://witcher.fandom.com/wiki/Category:Tales_from_the_world_of_The_Witcher_characters\n",
      "https://witcher.fandom.com/wiki/Category:The_Lady_of_the_Lake_characters\n",
      "https://witcher.fandom.com/wiki/Category:The_Last_Wish_characters\n",
      "https://witcher.fandom.com/wiki/Category:The_Tower_of_the_Swallow_characters\n",
      "https://witcher.fandom.com/wiki/Category:Time_of_Contempt_characters\n"
     ]
    }
   ],
   "source": [
    "for category in book_cats:\n",
    "    print(category.get_attribute(\"href\"))"
   ]
  },
  {
   "cell_type": "code",
   "execution_count": 39,
   "id": "9c242e57-1999-4858-8616-0ea3ea3c163f",
   "metadata": {},
   "outputs": [],
   "source": [
    "driver.get(book_cats[0].get_attribute(\"href\"))"
   ]
  },
  {
   "cell_type": "markdown",
   "id": "d68fefd7-0acc-431a-ae58-f8b246ec4c71",
   "metadata": {
    "tags": []
   },
   "source": [
    "### Gather Character Names"
   ]
  },
  {
   "cell_type": "markdown",
   "id": "0dd758f1-1c51-4c84-aa5e-60764acfac28",
   "metadata": {},
   "source": [
    "Using the driver's function to find the character names by html class name"
   ]
  },
  {
   "cell_type": "code",
   "execution_count": 40,
   "id": "41ac7b5f-278c-4411-a39e-a86c07a0b8e7",
   "metadata": {},
   "outputs": [],
   "source": [
    "character_names = driver.find_elements(By.CLASS_NAME, \"category-page__member-link\")"
   ]
  },
  {
   "cell_type": "code",
   "execution_count": 42,
   "id": "32eb8396-ceb6-4aae-a84a-f07a257a322e",
   "metadata": {
    "collapsed": true,
    "jupyter": {
     "outputs_hidden": true
    },
    "tags": []
   },
   "outputs": [
    {
     "name": "stdout",
     "output_type": "stream",
     "text": [
      "1 Adalia\n",
      "2 Adela\n",
      "3 Aen Saevherne\n",
      "4 Aevenien\n",
      "5 Aglaïs\n",
      "6 Albrich\n",
      "7 Amavet\n",
      "8 Angus Bri Cri\n",
      "9 Anna Kameny\n",
      "10 Anzelm Aubry\n",
      "11 Artaud Terranova\n",
      "12 Asse\n",
      "13 Assire var Anahid\n",
      "14 Aubry (first born)\n",
      "15 Augusta Wagner\n",
      "16 Baron of Casadei\n",
      "17 Beatrix of Kovir\n",
      "18 Bronik\n",
      "19 Brouver Hoog\n",
      "20 Cahir Mawr Dyffryn aep Ceallach\n",
      "21 Calanthe\n",
      "22 Caleb Stratton\n",
      "23 Carduin\n",
      "24 Ceallach aep Gruffyd\n",
      "25 Cerro\n",
      "26 Ciaran aep Dearbh\n",
      "27 Ciri\n",
      "28 Cirilla Fiona (imposter)\n",
      "29 Codringher\n",
      "30 Coinneach Dá Reo\n",
      "31 Connor\n",
      "32 Coram I\n",
      "33 Coram II\n",
      "34 Corbett\n",
      "35 Cosmo Baldenvegg\n",
      "36 Count Lanier\n",
      "37 Cregennan of Lod\n",
      "38 Crispin\n",
      "39 Dagorad\n",
      "40 Dandelion\n",
      "41 Daniel Etcheverry\n",
      "42 Demavend III\n",
      "43 Echel Traighlethan\n",
      "44 Effenberg\n",
      "45 Eithné\n",
      "46 Elan Trahe\n",
      "47 Elen of Kaedwen\n",
      "48 Emhyr var Emreis\n",
      "49 Emiel Regis Rohellec Terzieff-Godefroy\n",
      "50 Ethain\n",
      "51 Falka\n",
      "52 Falka (alias)\n",
      "53 Fauve\n",
      "54 Field Marshal Windbag\n",
      "55 Figgis Merluzzo\n",
      "56 Fiona\n",
      "57 Flourens Delannoy\n",
      "58 Francesca Findabair\n",
      "59 Fringilla Vigo\n",
      "60 Geralt of Rivia\n",
      "61 Gerhart of Aelle\n",
      "62 Giselher\n",
      "63 Goidemar\n",
      "64 Havekar\n",
      "65 Hector Laabs\n",
      "66 Hedwig of Malleore\n",
      "67 Henselt\n",
      "68 Houtborg triplets\n",
      "69 Ida Emean aep Sivney\n",
      "70 Iorweth\n",
      "71 Isengrim Faoiltiarna\n",
      "72 Iskra\n",
      "73 Istredd\n",
      "74 Ithlinne\n",
      "75 Jacob Fenn\n",
      "76 Jan Lennep\n",
      "77 Jan Struycken\n",
      "78 Jolie Lanier\n",
      "79 Kayleigh\n",
      "80 Keira Metz\n",
      "81 Kolda\n",
      "82 Lara Dorren\n",
      "83 Leo Bonhart\n",
      "84 Leticia Charbonneau\n",
      "85 Lucretia Vigo\n",
      "86 Margarita Laux-Antille\n",
      "87 Merlin\n",
      "88 Meve\n",
      "89 Milenka\n",
      "90 Millet\n",
      "91 Milva\n",
      "92 Mistle\n",
      "93 Morteisen\n",
      "94 Munro Bruys\n",
      "95 Muriel\n",
      "96 Mykitka\n",
      "97 Nazarian\n",
      "98 Nimue verch Wledyr ap Gwyn\n",
      "99 Ori Reuven\n",
      "100 Orla\n",
      "101 Papebrock\n",
      "102 Percival Schuttenbach\n",
      "103 Philippa Eilhart\n",
      "104 Pinto\n",
      "105 Radovid V\n",
      "106 Reef\n",
      "107 Reynard Odo\n",
      "108 Riannon\n",
      "109 Rience\n",
      "110 Riordain\n",
      "111 Roach\n",
      "112 Robert of Garramone\n",
      "113 Roger Kameny\n",
      "114 Sabrina Glevissig\n",
      "115 Schirrú\n",
      "116 Servadio\n",
      "117 Sheala de Tancarville\n",
      "118 Shilard Fitz-Oesterlen\n",
      "119 Sievers\n",
      "120 Sigismund Dijkstra\n",
      "121 Silvester Bugiardo\n",
      "122 Simlas Finn aep Dabairr\n",
      "123 Sirssa\n",
      "124 Stefan Skellen\n",
      "125 Stella Congreve\n",
      "126 Stribog\n",
      "127 Stucco Zangenis\n",
      "128 Talbot\n",
      "129 Tissaia de Vries\n",
      "130 Toruviel\n",
      "131 Triss Merigold\n",
      "132 Tugdual\n",
      "133 Tuzik\n",
      "134 Vanadain\n",
      "135 Vascoigne\n",
      "136 Vattier de Rideaux\n",
      "137 Vera Loewenhaupt\n",
      "138 Vilgefortz\n",
      "139 Vissegerd\n",
      "140 Vizimir II\n",
      "141 Vreemde\n",
      "142 Vridank\n",
      "143 Xarthisius\n",
      "144 Yazon Varda\n",
      "145 Yennefer of Vengerberg\n",
      "146 Zgarba\n",
      "147 Zoltan Chivay\n"
     ]
    }
   ],
   "source": [
    "i = 1\n",
    "for name in character_names:\n",
    "    print(str(i) + \" \" + name.text)\n",
    "    i += 1"
   ]
  },
  {
   "cell_type": "markdown",
   "id": "c436ef54-5061-48c3-a7e9-10cf05e89af7",
   "metadata": {},
   "source": [
    "### Streamline the whole scraping process."
   ]
  },
  {
   "cell_type": "code",
   "execution_count": 49,
   "id": "b75da047-9de8-49b2-aeac-338eec4f6a40",
   "metadata": {},
   "outputs": [],
   "source": [
    "driver = webdriver.Chrome() # Driver Object to Access our browser\n",
    "\n",
    "page_url = \"https://witcher.fandom.com/wiki/Category:Characters_in_the_stories\"\n",
    "driver.get(page_url) # go to url\n",
    "\n",
    "book_cats = driver.find_elements(By.CLASS_NAME, \"category-page__member-link\")\n",
    "\n",
    "books_list = []\n",
    "for cats in book_cats:\n",
    "    book_link = cats.get_attribute(\"href\")\n",
    "    book_cat = cats.text\n",
    "    books_list.append({'book_cat': book_cat, 'book_link': book_link})\n",
    "    \n",
    "characters_list = []\n",
    "for book in books_list:\n",
    "    driver.get(book['book_link'])\n",
    "    character_names = driver.find_elements(By.CLASS_NAME, \"category-page__member-link\")\n",
    "    \n",
    "    for name in character_names:\n",
    "        characters_list.append({\"book_cat\": book[\"book_cat\"], \"character_name\": name.text})\n",
    "        \n",
    "witcher_character_df = pd.DataFrame(characters_list)"
   ]
  },
  {
   "cell_type": "markdown",
   "id": "7bf1fd6b-8d8c-48db-a1d6-4441939533b7",
   "metadata": {},
   "source": [
    "Plotting the number of characters present in each books."
   ]
  },
  {
   "cell_type": "code",
   "execution_count": 61,
   "id": "8cea1f05-5a7c-4b45-8ccf-ec38578c7c9d",
   "metadata": {},
   "outputs": [
    {
     "data": {
      "image/png": "[encoded data removed]",
      "text/plain": [
       "<Figure size 432x288 with 1 Axes>"
      ]
     },
     "metadata": {
      "needs_background": "light"
     },
     "output_type": "display_data"
    }
   ],
   "source": [
    "import matplotlib.pyplot as plt\n",
    "from itertools import cycle, islice\n",
    "\n",
    "# my_colors = list(islice(cycle(['b', 'r', 'g', 'y', 'k']), None, len(witcher_character_df)))\n",
    "my_colors = [(x/10.0, x/20.0, 0.75) for x in range(len(witcher_character_df))]\n",
    "witcher_character_df[\"book_cat\"].value_counts().plot(kind=\"bar\", color=my_colors)\n",
    "plt.title(\"Number of Characters in Each Books\")\n",
    "plt.show()"
   ]
  },
  {
   "cell_type": "markdown",
   "id": "36ce0ccc-b521-4c36-bec9-85c2a6007f5e",
   "metadata": {},
   "source": [
    "Saving the character names in csv"
   ]
  },
  {
   "cell_type": "code",
   "execution_count": 62,
   "id": "68a0e94f-daf2-4dce-9959-c6127f793219",
   "metadata": {},
   "outputs": [],
   "source": [
    "witcher_character_df.to_csv('witcher_characters.csv', index=False)"
   ]
  },
  {
   "cell_type": "code",
   "execution_count": null,
   "id": "9e62da8b-11bb-413c-8c38-6be2afc923d4",
   "metadata": {},
   "outputs": [],
   "source": []
  }
 ],
 "metadata": {
  "kernelspec": {
   "display_name": "Python 3 (ipykernel)",
   "language": "python",
   "name": "python3"
  },
  "language_info": {
   "codemirror_mode": {
    "name": "ipython",
    "version": 3
   },
   "file_extension": ".py",
   "mimetype": "text/x-python",
   "name": "python",
   "nbconvert_exporter": "python",
   "pygments_lexer": "ipython3",
   "version": "3.9.7"
  }
 },
 "nbformat": 4,
 "nbformat_minor": 5
}
